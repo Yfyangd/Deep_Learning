{
  "nbformat": 4,
  "nbformat_minor": 0,
  "metadata": {
    "colab": {
      "name": "NTHU Deep Learning w3.ipynb",
      "provenance": [],
      "collapsed_sections": []
    },
    "kernelspec": {
      "name": "python3",
      "display_name": "Python 3"
    }
  },
  "cells": [
    {
      "cell_type": "markdown",
      "metadata": {
        "id": "rTELP7zqrw3V"
      },
      "source": [
        "Your name: 楊元福 108003817"
      ]
    },
    {
      "cell_type": "markdown",
      "metadata": {
        "id": "rGla_F9W4N9b"
      },
      "source": [
        "## Hi, welcome to Colab"
      ]
    },
    {
      "cell_type": "markdown",
      "metadata": {
        "id": "wLDxocUX9l8D"
      },
      "source": [
        "https://colab.research.google.com/notebooks/intro.ipynb"
      ]
    },
    {
      "cell_type": "markdown",
      "metadata": {
        "id": "4s2a9zUs4ccM"
      },
      "source": [
        "The ways to programming Python code have 2, format of .py and .ipynb\r\n",
        "\r\n",
        "And here is the format of I Python Notebook (.ipynb)\r\n",
        "\r\n",
        "The difference between these two is that ipy is written in the cells\r\n",
        "\r\n",
        "And every cell can be Code or Text"
      ]
    },
    {
      "cell_type": "code",
      "metadata": {
        "id": "2w88077D4KGh",
        "colab": {
          "base_uri": "https://localhost:8080/"
        },
        "outputId": "ef7f74e1-1ebf-4da1-a1fa-469a07c18fce"
      },
      "source": [
        "print(\"I'm a code cell\")"
      ],
      "execution_count": 1,
      "outputs": [
        {
          "output_type": "stream",
          "text": [
            "I'm a code cell\n"
          ],
          "name": "stdout"
        }
      ]
    },
    {
      "cell_type": "markdown",
      "metadata": {
        "id": "pWAssVA56844"
      },
      "source": [
        "I'm a Text Cell"
      ]
    },
    {
      "cell_type": "markdown",
      "metadata": {
        "id": "ct3xRKb67DRj"
      },
      "source": [
        "The memory of each cell is same.\r\n",
        "\r\n",
        "See the following example:"
      ]
    },
    {
      "cell_type": "code",
      "metadata": {
        "id": "ZXu2vFV67a56"
      },
      "source": [
        "x = 10\r\n",
        "a = 5"
      ],
      "execution_count": 2,
      "outputs": []
    },
    {
      "cell_type": "code",
      "metadata": {
        "id": "8JT0CY1m7e9h",
        "outputId": "bcf80723-7957-48d8-e572-898f42d8eb2a",
        "colab": {
          "base_uri": "https://localhost:8080/"
        }
      },
      "source": [
        "print(x+a)"
      ],
      "execution_count": 3,
      "outputs": [
        {
          "output_type": "stream",
          "text": [
            "15\n"
          ],
          "name": "stdout"
        }
      ]
    },
    {
      "cell_type": "markdown",
      "metadata": {
        "id": "iol9s58_7rPE"
      },
      "source": [
        "Even you delete a cell, the code you ran still be remembered"
      ]
    },
    {
      "cell_type": "markdown",
      "metadata": {
        "id": "z5WA3wYp8WGp"
      },
      "source": [
        "<a href=\"https://www.youtube.com/watch?v=inN8seMm7UI\">Colab Demo Video</a>"
      ]
    },
    {
      "cell_type": "markdown",
      "metadata": {
        "id": "KRihkMgj831O"
      },
      "source": [
        "You can run the code cell by clicking the button on the left of the cell or press \"shift\" + \"enter\""
      ]
    },
    {
      "cell_type": "code",
      "metadata": {
        "colab": {
          "base_uri": "https://localhost:8080/"
        },
        "id": "gJr_9dXGpJ05",
        "outputId": "a39a02e5-c9ff-4838-cce3-6a54d4e0a7ec"
      },
      "source": [
        "seconds_in_a_day = 24 * 60 * 60\n",
        "seconds_in_a_day"
      ],
      "execution_count": 4,
      "outputs": [
        {
          "output_type": "execute_result",
          "data": {
            "text/plain": [
              "86400"
            ]
          },
          "metadata": {
            "tags": []
          },
          "execution_count": 4
        }
      ]
    },
    {
      "cell_type": "code",
      "metadata": {
        "colab": {
          "base_uri": "https://localhost:8080/"
        },
        "id": "-gE-Ez1qtyIA",
        "outputId": "102c70c8-3807-4e99-da5a-4981292eb1e0"
      },
      "source": [
        "seconds_in_a_week = 7 * seconds_in_a_day\n",
        "seconds_in_a_week"
      ],
      "execution_count": 5,
      "outputs": [
        {
          "output_type": "execute_result",
          "data": {
            "text/plain": [
              "604800"
            ]
          },
          "metadata": {
            "tags": []
          },
          "execution_count": 5
        }
      ]
    },
    {
      "cell_type": "markdown",
      "metadata": {
        "id": "_3uNevANFWBg"
      },
      "source": [
        "**recommend you to see this tutorial then learn python, colab, numpy**\r\n",
        "*https://colab.research.google.com/github/cs231n/cs231n.github.io/blob/master/python-colab.ipynb*\r\n",
        "\r\n",
        "About where you can start Python:\r\n",
        "https://docs.python.org/3/tutorial/\r\n",
        "\r\n",
        "Where you can start Numpy: https://numpy.org/doc/stable/user/quickstart.html\r\n"
      ]
    },
    {
      "cell_type": "markdown",
      "metadata": {
        "id": "RpUCsURG9pUj"
      },
      "source": [
        "## Test your Python skill"
      ]
    },
    {
      "cell_type": "markdown",
      "metadata": {
        "id": "98Ebvpgc93J1"
      },
      "source": [
        "1. (Example) print a number which mutiple by a=2 and b=4:"
      ]
    },
    {
      "cell_type": "code",
      "metadata": {
        "id": "nIWN_PLY96Cl",
        "colab": {
          "base_uri": "https://localhost:8080/"
        },
        "outputId": "11c337d9-0e42-471c-e1ee-dd09e3668fee"
      },
      "source": [
        "a=2\r\n",
        "b=4\r\n",
        "print(a*b)"
      ],
      "execution_count": 6,
      "outputs": [
        {
          "output_type": "stream",
          "text": [
            "8\n"
          ],
          "name": "stdout"
        }
      ]
    },
    {
      "cell_type": "markdown",
      "metadata": {
        "id": "Pp8r2Hj5-fpd"
      },
      "source": [
        "expected output: 8"
      ]
    },
    {
      "cell_type": "markdown",
      "metadata": {
        "id": "53Zpm4rI-mfj"
      },
      "source": [
        "Now try to follow the instructions to complete codes below\r\n",
        "\r\n",
        "if need more python tutorials:https://www.codecademy.com/learn/learn-python"
      ]
    },
    {
      "cell_type": "code",
      "metadata": {
        "id": "3MVR1fHO_66F",
        "outputId": "e3e93d9b-e393-4c88-e818-ddd1272cb2b7",
        "colab": {
          "base_uri": "https://localhost:8080/"
        }
      },
      "source": [
        "# create two viables a and b that is 2 and 4 respectively\r\n",
        "a=2\r\n",
        "b=4\r\n",
        "\r\n",
        "def equal_self(x,y):\r\n",
        "  TF=False\r\n",
        "  if y/x == x:\r\n",
        "    TF=True\r\n",
        "  return TF\r\n",
        "\r\n",
        "# print the output of the function \"equal_self\" by input a,b\r\n",
        "print(equal_self(a,b))"
      ],
      "execution_count": 8,
      "outputs": [
        {
          "output_type": "stream",
          "text": [
            "True\n"
          ],
          "name": "stdout"
        }
      ]
    },
    {
      "cell_type": "markdown",
      "metadata": {
        "id": "VNHf9_XFRaOV"
      },
      "source": [
        "expect output: True"
      ]
    },
    {
      "cell_type": "code",
      "metadata": {
        "id": "42ibj3DqQUSf",
        "outputId": "25d99d8a-3977-4e22-eb43-2db5d9e5e015",
        "colab": {
          "base_uri": "https://localhost:8080/"
        }
      },
      "source": [
        "x = [1,2,3]\r\n",
        "#output the length of x\r\n",
        "print(len(x))"
      ],
      "execution_count": 9,
      "outputs": [
        {
          "output_type": "stream",
          "text": [
            "3\n"
          ],
          "name": "stdout"
        }
      ]
    },
    {
      "cell_type": "markdown",
      "metadata": {
        "id": "fPDLXQlERkPx"
      },
      "source": [
        "expect output: 3"
      ]
    },
    {
      "cell_type": "markdown",
      "metadata": {
        "id": "t9F0YJteCjrN"
      },
      "source": [
        "## Numpy Test"
      ]
    },
    {
      "cell_type": "code",
      "metadata": {
        "id": "st3zjvvWF3_O"
      },
      "source": [
        "# please import the numpy library and call it np\r\n",
        "import numpy as np"
      ],
      "execution_count": 10,
      "outputs": []
    },
    {
      "cell_type": "code",
      "metadata": {
        "id": "FWRe_8BcGwTj",
        "outputId": "ab04e80b-5315-4a2a-aad1-66c78ddab664",
        "colab": {
          "base_uri": "https://localhost:8080/"
        }
      },
      "source": [
        "# give a array with zeros in 3*2\r\n",
        "np.zeros((3,2), float)"
      ],
      "execution_count": 12,
      "outputs": [
        {
          "output_type": "execute_result",
          "data": {
            "text/plain": [
              "array([[0., 0.],\n",
              "       [0., 0.],\n",
              "       [0., 0.]])"
            ]
          },
          "metadata": {
            "tags": []
          },
          "execution_count": 12
        }
      ]
    },
    {
      "cell_type": "markdown",
      "metadata": {
        "id": "BFxhZiyBHHzD"
      },
      "source": [
        "expected output:\r\n",
        "\r\n",
        "```\r\n",
        "array([[ 0.,  0.],\r\n",
        "   [ 0.,  0.],       \r\n",
        "   [ 0.,  0.]])\r\n",
        "```\r\n",
        "\r\n"
      ]
    },
    {
      "cell_type": "code",
      "metadata": {
        "id": "Qy3wNGS0HPKS",
        "outputId": "e40f6f94-2060-4728-cb6a-e505fd1fcbb7",
        "colab": {
          "base_uri": "https://localhost:8080/"
        }
      },
      "source": [
        "arr = np.linspace(0,19,20)\r\n",
        "# output the sum of arr\r\n",
        "print(arr.sum())"
      ],
      "execution_count": 13,
      "outputs": [
        {
          "output_type": "stream",
          "text": [
            "190.0\n"
          ],
          "name": "stdout"
        }
      ]
    },
    {
      "cell_type": "markdown",
      "metadata": {
        "id": "A7IdfwihXNGg"
      },
      "source": [
        "expected output: 190.0"
      ]
    },
    {
      "cell_type": "code",
      "metadata": {
        "id": "TI-3a5yEXJx1",
        "outputId": "e2b8ee35-c66e-4e05-c0fe-e74e563b5ebd",
        "colab": {
          "base_uri": "https://localhost:8080/"
        }
      },
      "source": [
        "# output the shape of arr\r\n",
        "arr.shape"
      ],
      "execution_count": 14,
      "outputs": [
        {
          "output_type": "execute_result",
          "data": {
            "text/plain": [
              "(20,)"
            ]
          },
          "metadata": {
            "tags": []
          },
          "execution_count": 14
        }
      ]
    },
    {
      "cell_type": "markdown",
      "metadata": {
        "id": "6Y7ukTGHX978"
      },
      "source": [
        "expected output: (20,)"
      ]
    },
    {
      "cell_type": "code",
      "metadata": {
        "id": "sZxV6RX5X85z",
        "outputId": "27fba0e0-d82b-4f78-fc96-56cdfe3dc4b4",
        "colab": {
          "base_uri": "https://localhost:8080/"
        }
      },
      "source": [
        "# output the reshaped arr to (4,5)\r\n",
        "arr.reshape(4,5)"
      ],
      "execution_count": 15,
      "outputs": [
        {
          "output_type": "execute_result",
          "data": {
            "text/plain": [
              "array([[ 0.,  1.,  2.,  3.,  4.],\n",
              "       [ 5.,  6.,  7.,  8.,  9.],\n",
              "       [10., 11., 12., 13., 14.],\n",
              "       [15., 16., 17., 18., 19.]])"
            ]
          },
          "metadata": {
            "tags": []
          },
          "execution_count": 15
        }
      ]
    },
    {
      "cell_type": "markdown",
      "metadata": {
        "id": "HnMz62UoYOtU"
      },
      "source": [
        "expected output:\r\n",
        "\r\n",
        "```\r\n",
        "array([[ 0., 1., 2., 3., 4.],\r\n",
        "   [  5., 6., 7., 8., 9.],\r\n",
        "   [10., 11., 12., 13., 14.],\r\n",
        "   [15., 16., 17., 18., 19.]])\r\n",
        "```\r\n",
        "\r\n"
      ]
    },
    {
      "cell_type": "code",
      "metadata": {
        "id": "GAhA4ClGY9A_",
        "outputId": "dd168a64-e535-46ba-fc66-ffec1ce460fe",
        "colab": {
          "base_uri": "https://localhost:8080/"
        }
      },
      "source": [
        "# output the shape of arr\r\n",
        "arr.shape"
      ],
      "execution_count": 16,
      "outputs": [
        {
          "output_type": "execute_result",
          "data": {
            "text/plain": [
              "(20,)"
            ]
          },
          "metadata": {
            "tags": []
          },
          "execution_count": 16
        }
      ]
    },
    {
      "cell_type": "markdown",
      "metadata": {
        "id": "tt47PRK1Y_AW"
      },
      "source": [
        "expected output: (4, 5)"
      ]
    },
    {
      "cell_type": "code",
      "metadata": {
        "id": "uU23cQNjZKu6",
        "outputId": "401934db-633b-4fb0-d54f-2526d0eb3d0e",
        "colab": {
          "base_uri": "https://localhost:8080/"
        }
      },
      "source": [
        "# output the maximum number of arr\r\n",
        "arr.max()"
      ],
      "execution_count": 17,
      "outputs": [
        {
          "output_type": "execute_result",
          "data": {
            "text/plain": [
              "19.0"
            ]
          },
          "metadata": {
            "tags": []
          },
          "execution_count": 17
        }
      ]
    },
    {
      "cell_type": "markdown",
      "metadata": {
        "id": "w7BqibXwZbD0"
      },
      "source": [
        "expected output: 19.0"
      ]
    }
  ]
}